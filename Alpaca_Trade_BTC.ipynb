{
 "cells": [
  {
   "cell_type": "code",
   "execution_count": 1,
   "id": "c29c9e43-c373-4925-ac3a-1b0dfc6512d8",
   "metadata": {},
   "outputs": [],
   "source": [
    "# Initial imports\n",
    "import os\n",
    "import requests\n",
    "import pandas as pd\n",
    "from dotenv import load_dotenv\n",
    "import alpaca_trade_api as tradeapi\n",
    "\n",
    "%matplotlib inline"
   ]
  },
  {
   "cell_type": "code",
   "execution_count": 2,
   "id": "f2a79363-2d99-4a34-a9a7-24c6f0518410",
   "metadata": {},
   "outputs": [
    {
     "data": {
      "text/plain": [
       "True"
      ]
     },
     "execution_count": 2,
     "metadata": {},
     "output_type": "execute_result"
    }
   ],
   "source": [
    "# Load .env environment variables\n",
    "path = '.env'\n",
    "load_dotenv(path)"
   ]
  },
  {
   "cell_type": "code",
   "execution_count": 3,
   "id": "b8fa3ac4-9097-4eb7-8bc2-eaf32398aa9b",
   "metadata": {},
   "outputs": [],
   "source": [
    "# Set Alpaca API key and secret\n",
    "alpaca_api_key = os.getenv('ALPACA_PAPER_API_KEY')\n",
    "alpaca_secret_key = os.getenv('ALPACA_PAPER_SECRET_KEY')"
   ]
  },
  {
   "cell_type": "code",
   "execution_count": 4,
   "id": "97330d05-a03b-4662-a4f3-dbd782191f7b",
   "metadata": {},
   "outputs": [
    {
     "name": "stdout",
     "output_type": "stream",
     "text": [
      "Alpaca Key type: <class 'str'>\n",
      "Alpaca Secret Key type: <class 'str'>\n"
     ]
    }
   ],
   "source": [
    "# Verify that Alpaca key and secret were correctly loaded\n",
    "print(f\"Alpaca Key type: {type(alpaca_api_key)}\")\n",
    "print(f\"Alpaca Secret Key type: {type(alpaca_secret_key)}\")"
   ]
  },
  {
   "cell_type": "code",
   "execution_count": 5,
   "id": "eaf78ee2-afc0-4c96-9cc1-b4ad06bef3c0",
   "metadata": {},
   "outputs": [],
   "source": [
    "# Create the Alpaca API object\n",
    "alpaca = tradeapi.REST(\n",
    "    alpaca_api_key,\n",
    "    alpaca_secret_key,\n",
    "    api_version=\"v2\")"
   ]
  },
  {
   "cell_type": "code",
   "execution_count": 6,
   "id": "da555b22-d4c2-40aa-8e80-eb6cbd6ec7da",
   "metadata": {},
   "outputs": [],
   "source": [
    "# Format date as ISO format\n",
    "start = pd.Timestamp('2017-01-01', tz=\"America/New_York\").isoformat()\n",
    "end = pd.Timestamp('2022-01-01', tz=\"America/New_York\").isoformat()"
   ]
  },
  {
   "cell_type": "code",
   "execution_count": 7,
   "id": "77ef96d7-912c-4347-bfe9-d3e141d8d3a4",
   "metadata": {},
   "outputs": [],
   "source": [
    "\n",
    "\n",
    "'''Tried using BTCUSE and BTC/USD but came back invalid'''\n",
    "\n",
    "\n",
    "# Set the tickers\n",
    "tickers = [\"BTC\"]"
   ]
  },
  {
   "cell_type": "code",
   "execution_count": 8,
   "id": "251be4d5-c03b-4f0c-ad32-99b1e0ffe6d5",
   "metadata": {},
   "outputs": [],
   "source": [
    "# Set timeframe to one day ('1Day') for the Alpaca API\n",
    "timeframe = \"1Day\""
   ]
  },
  {
   "cell_type": "code",
   "execution_count": 9,
   "id": "a161774f-4fa9-4f5c-9dce-804eb0bac007",
   "metadata": {
    "tags": []
   },
   "outputs": [
    {
     "data": {
      "text/html": [
       "<div>\n",
       "<style scoped>\n",
       "    .dataframe tbody tr th:only-of-type {\n",
       "        vertical-align: middle;\n",
       "    }\n",
       "\n",
       "    .dataframe tbody tr th {\n",
       "        vertical-align: top;\n",
       "    }\n",
       "\n",
       "    .dataframe thead th {\n",
       "        text-align: right;\n",
       "    }\n",
       "</style>\n",
       "<table border=\"1\" class=\"dataframe\">\n",
       "  <thead>\n",
       "    <tr style=\"text-align: right;\">\n",
       "      <th></th>\n",
       "      <th>open</th>\n",
       "      <th>high</th>\n",
       "      <th>low</th>\n",
       "      <th>close</th>\n",
       "      <th>volume</th>\n",
       "      <th>trade_count</th>\n",
       "      <th>vwap</th>\n",
       "      <th>symbol</th>\n",
       "    </tr>\n",
       "    <tr>\n",
       "      <th>timestamp</th>\n",
       "      <th></th>\n",
       "      <th></th>\n",
       "      <th></th>\n",
       "      <th></th>\n",
       "      <th></th>\n",
       "      <th></th>\n",
       "      <th></th>\n",
       "      <th></th>\n",
       "    </tr>\n",
       "  </thead>\n",
       "  <tbody>\n",
       "    <tr>\n",
       "      <th>2021-04-16 04:00:00+00:00</th>\n",
       "      <td>100.89</td>\n",
       "      <td>100.89</td>\n",
       "      <td>98.770</td>\n",
       "      <td>99.2447</td>\n",
       "      <td>4497</td>\n",
       "      <td>186</td>\n",
       "      <td>100.273227</td>\n",
       "      <td>BTC</td>\n",
       "    </tr>\n",
       "    <tr>\n",
       "      <th>2021-04-19 04:00:00+00:00</th>\n",
       "      <td>99.12</td>\n",
       "      <td>99.13</td>\n",
       "      <td>98.985</td>\n",
       "      <td>99.1012</td>\n",
       "      <td>4551</td>\n",
       "      <td>96</td>\n",
       "      <td>99.104105</td>\n",
       "      <td>BTC</td>\n",
       "    </tr>\n",
       "    <tr>\n",
       "      <th>2021-04-20 04:00:00+00:00</th>\n",
       "      <td>98.79</td>\n",
       "      <td>99.30</td>\n",
       "      <td>98.790</td>\n",
       "      <td>99.0441</td>\n",
       "      <td>3736</td>\n",
       "      <td>82</td>\n",
       "      <td>98.932931</td>\n",
       "      <td>BTC</td>\n",
       "    </tr>\n",
       "    <tr>\n",
       "      <th>2021-04-21 04:00:00+00:00</th>\n",
       "      <td>99.02</td>\n",
       "      <td>99.01</td>\n",
       "      <td>98.900</td>\n",
       "      <td>98.9705</td>\n",
       "      <td>997</td>\n",
       "      <td>42</td>\n",
       "      <td>98.950429</td>\n",
       "      <td>BTC</td>\n",
       "    </tr>\n",
       "    <tr>\n",
       "      <th>2021-04-22 04:00:00+00:00</th>\n",
       "      <td>99.04</td>\n",
       "      <td>99.04</td>\n",
       "      <td>98.860</td>\n",
       "      <td>99.0010</td>\n",
       "      <td>1599</td>\n",
       "      <td>68</td>\n",
       "      <td>98.958802</td>\n",
       "      <td>BTC</td>\n",
       "    </tr>\n",
       "  </tbody>\n",
       "</table>\n",
       "</div>"
      ],
      "text/plain": [
       "                             open    high     low    close  volume  \\\n",
       "timestamp                                                            \n",
       "2021-04-16 04:00:00+00:00  100.89  100.89  98.770  99.2447    4497   \n",
       "2021-04-19 04:00:00+00:00   99.12   99.13  98.985  99.1012    4551   \n",
       "2021-04-20 04:00:00+00:00   98.79   99.30  98.790  99.0441    3736   \n",
       "2021-04-21 04:00:00+00:00   99.02   99.01  98.900  98.9705     997   \n",
       "2021-04-22 04:00:00+00:00   99.04   99.04  98.860  99.0010    1599   \n",
       "\n",
       "                           trade_count        vwap symbol  \n",
       "timestamp                                                  \n",
       "2021-04-16 04:00:00+00:00          186  100.273227    BTC  \n",
       "2021-04-19 04:00:00+00:00           96   99.104105    BTC  \n",
       "2021-04-20 04:00:00+00:00           82   98.932931    BTC  \n",
       "2021-04-21 04:00:00+00:00           42   98.950429    BTC  \n",
       "2021-04-22 04:00:00+00:00           68   98.958802    BTC  "
      ]
     },
     "execution_count": 9,
     "metadata": {},
     "output_type": "execute_result"
    }
   ],
   "source": [
    "# Get prices from alpaca \n",
    "bitcoin_df = alpaca.get_bars(\n",
    "    tickers,\n",
    "    timeframe,\n",
    "    start = start,\n",
    "    end = end\n",
    ").df\n",
    "\n",
    "\n",
    "\n",
    "'''Price displayed is not Bitcoin'''\n",
    "\n",
    "# Display sample data\n",
    "bitcoin_df.head()"
   ]
  }
 ],
 "metadata": {
  "kernelspec": {
   "display_name": "dev",
   "language": "python",
   "name": "dev"
  },
  "language_info": {
   "codemirror_mode": {
    "name": "ipython",
    "version": 3
   },
   "file_extension": ".py",
   "mimetype": "text/x-python",
   "name": "python",
   "nbconvert_exporter": "python",
   "pygments_lexer": "ipython3",
   "version": "3.7.13"
  }
 },
 "nbformat": 4,
 "nbformat_minor": 5
}
